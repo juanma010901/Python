{
  "nbformat": 4,
  "nbformat_minor": 0,
  "metadata": {
    "colab": {
      "provenance": []
    },
    "kernelspec": {
      "name": "python3",
      "display_name": "Python 3"
    },
    "language_info": {
      "name": "python"
    }
  },
  "cells": [
    {
      "cell_type": "code",
      "execution_count": null,
      "metadata": {
        "id": "uxDRQ7hL1l44"
      },
      "outputs": [],
      "source": [
        "class AhorroVoluntario:\n",
        "    def __init__(self, nombre_cliente, dinero_cuenta=0, rentabilidad_actual=0.01, mes_actual=1):\n",
        "        self.nombre_cliente = nombre_cliente\n",
        "        self.dinero_cuenta = dinero_cuenta\n",
        "        self.mes_actual = mes_actual\n",
        "        self.rentabilidad_actual = self.calcular_rentabilidad()\n",
        "\n",
        "    def calcular_rentabilidad(self):\n",
        "        if self.dinero_cuenta <= 400000:\n",
        "            return 0.01\n",
        "        elif self.dinero_cuenta > 400000 and self.dinero_cuenta < 800000:\n",
        "            return 0.02\n",
        "        else:\n",
        "            return 0.03\n",
        "\n",
        "    def ingresar_dinero(self, cantidad):\n",
        "        self.dinero_cuenta += cantidad\n",
        "\n",
        "    def retirar_dinero(self, cantidad):\n",
        "        self.dinero_cuenta -= cantidad\n",
        "\n",
        "    def liquidar_mes(self):\n",
        "        self.mes_actual = 1 if self.mes_actual == 12 else self.mes_actual + 1\n",
        "        self.rentabilidad_actual = self.calcular_rentabilidad()\n",
        "        self.dinero_cuenta += self.dinero_cuenta * self.rentabilidad_actual\n",
        "\n",
        "    def __str__(self):\n",
        "        resultado = f'{\"Nombre\":15}\\t{\"Dinero actual\":10}\\t{\"Mes actual\":10}\\t{\"Rentabilidad\":12}\\n'\n",
        "        resultado += f\"{self.nombre_cliente:15}\\t{round(self.dinero_cuenta, 2)}\\t{self.mes_actual:10}\\t{self.rentabilidad_actual:12}\\t\"\n",
        "        return resultado"
      ]
    },
    {
      "cell_type": "code",
      "source": [
        "cliente_1 = AhorroVoluntario(\"Juan\")\n",
        "cliente_1.ingresar_dinero(100000)\n",
        "cliente_1.ingresar_dinero(200000)\n",
        "cliente_1.retirar_dinero(50000)\n",
        "print(cliente_1)\n",
        "cliente_1.liquidar_mes()\n",
        "print(cliente_1)\n",
        "cliente_1.ingresar_dinero(500000)\n",
        "print(cliente_1)\n",
        "cliente_1.liquidar_mes()\n",
        "print(cliente_1)\n",
        "cliente_1.liquidar_mes()\n",
        "cliente_1.liquidar_mes()\n",
        "cliente_1.liquidar_mes()\n",
        "print(cliente_1)\n",
        "cliente_1.liquidar_mes()\n",
        "cliente_1.liquidar_mes()\n",
        "cliente_1.liquidar_mes()\n",
        "cliente_1.liquidar_mes()\n",
        "cliente_1.liquidar_mes()\n",
        "cliente_1.liquidar_mes()\n",
        "print(cliente_1)\n",
        "cliente_1.liquidar_mes()\n",
        "print(cliente_1)"
      ],
      "metadata": {
        "colab": {
          "base_uri": "https://localhost:8080/"
        },
        "id": "BzPrDkQ1IRrf",
        "outputId": "3141efdd-e82e-4601-cfa4-8d6aa09d354d"
      },
      "execution_count": null,
      "outputs": [
        {
          "output_type": "stream",
          "name": "stdout",
          "text": [
            "Nombre         \tDinero actual\tMes actual\tRentabilidad\n",
            "Juan           \t250000\t         1\t        0.01\t\n",
            "Nombre         \tDinero actual\tMes actual\tRentabilidad\n",
            "Juan           \t252500.0\t         2\t        0.01\t\n",
            "Nombre         \tDinero actual\tMes actual\tRentabilidad\n",
            "Juan           \t752500.0\t         2\t        0.01\t\n",
            "Nombre         \tDinero actual\tMes actual\tRentabilidad\n",
            "Juan           \t767550.0\t         3\t        0.02\t\n",
            "Nombre         \tDinero actual\tMes actual\tRentabilidad\n",
            "Juan           \t814530.2\t         6\t        0.02\t\n",
            "Nombre         \tDinero actual\tMes actual\tRentabilidad\n",
            "Juan           \t972591.66\t        12\t        0.03\t\n",
            "Nombre         \tDinero actual\tMes actual\tRentabilidad\n",
            "Juan           \t1001769.41\t         1\t        0.03\t\n"
          ]
        }
      ]
    }
  ]
}